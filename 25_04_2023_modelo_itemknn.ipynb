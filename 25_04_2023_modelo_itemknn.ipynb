{
 "cells": [
  {
   "cell_type": "code",
   "execution_count": 37,
   "id": "3eef090a",
   "metadata": {},
   "outputs": [],
   "source": [
    "import pandas as pd\n",
    "import numpy as np\n",
    "import re"
   ]
  },
  {
   "cell_type": "code",
   "execution_count": 38,
   "id": "54b720c4",
   "metadata": {},
   "outputs": [],
   "source": [
    "df = pd.read_csv(\"sessions_train.csv\")\n",
    "\n",
    "df = df[df[\"locale\"]==\"DE\"].drop(columns={\"locale\"}).reset_index(drop=True)\n",
    "\n",
    "# https://github.com/rn5l/session-rec/blob/master/algorithms/knn/iknn.py\n",
    "class ItemKNN:\n",
    "    '''\n",
    "    ItemKNN(n_sims = 100, lmbd = 20, alpha = 0.5, session_key = 'SessionId', item_key = 'ItemId', time_key = 'Time')\n",
    "    Item-to-item predictor that computes the the similarity to all items to the given item.\n",
    "    Similarity of two items is given by:\n",
    "    .. math::\n",
    "        s_{i,j}=\\sum_{s}I\\{(s,i)\\in D & (s,j)\\in D\\} / (supp_i+\\\\lambda)^{\\\\alpha}(supp_j+\\\\lambda)^{1-\\\\alpha}\n",
    "    Parameters\n",
    "    --------\n",
    "    n_sims : int\n",
    "        Only give back non-zero scores to the N most similar items. Should be higher or equal than the cut-off of your evaluation. (Default value: 100)\n",
    "    lmbd : float\n",
    "        Regularization. Discounts the similarity of rare items (incidental co-occurrences). (Default value: 20)\n",
    "    alpha : float\n",
    "        Balance between normalizing with the supports of the two items. 0.5 gives cosine similarity, 1.0 gives confidence (as in association rules).\n",
    "    session_key : string\n",
    "        header of the session ID column in the input file (default: 'SessionId')\n",
    "    item_key : string\n",
    "        header of the item ID column in the input file (default: 'ItemId')\n",
    "    time_key : string\n",
    "        header of the timestamp column in the input file (default: 'Time')\n",
    "    '''\n",
    "\n",
    "    def __init__(self, n_sims=100, lmbd=20, alpha=0.5, session_key='SessionId', item_key='ItemId', time_key='Time'):\n",
    "        self.n_sims = n_sims\n",
    "        self.lmbd = lmbd\n",
    "        self.alpha = alpha\n",
    "        self.item_key = item_key\n",
    "        self.session_key = session_key\n",
    "        self.time_key = time_key\n",
    "\n",
    "    def fit(self, data):\n",
    "        '''\n",
    "        Trains the predictor.\n",
    "        Parameters\n",
    "        --------\n",
    "        data: pandas.DataFrame\n",
    "            Training data. It contains the transactions of the sessions. It has one column for session IDs, one for item IDs and one for the timestamp of the events (unix timestamps).\n",
    "            It must have a header. Column names are arbitrary, but must correspond to the ones you set during the initialization of the network (session_key, item_key, time_key properties).\n",
    "        '''\n",
    "        data.set_index(np.arange(len(data)), inplace=True)\n",
    "        itemids = data[self.item_key].unique()\n",
    "        n_items = len(itemids)\n",
    "        data = pd.merge(data, pd.DataFrame({self.item_key: itemids, 'ItemIdx': np.arange(len(itemids))}),\n",
    "                        on=self.item_key, how='inner')\n",
    "        sessionids = data[self.session_key].unique()\n",
    "        data = pd.merge(data, pd.DataFrame({self.session_key: sessionids, 'SessionIdx': np.arange(len(sessionids))}),\n",
    "                        on=self.session_key, how='inner')\n",
    "        supp = data.groupby('SessionIdx').size()\n",
    "        session_offsets = np.zeros(len(supp) + 1, dtype=np.int32)\n",
    "        session_offsets[1:] = supp.cumsum()\n",
    "        index_by_sessions = data.sort_values(['SessionIdx', self.time_key]).index.values\n",
    "        supp = data.groupby('ItemIdx').size()\n",
    "        item_offsets = np.zeros(n_items + 1, dtype=np.int32)\n",
    "        item_offsets[1:] = supp.cumsum()\n",
    "        index_by_items = data.sort_values(['ItemIdx', self.time_key]).index.values\n",
    "        self.sims = dict()\n",
    "        for i in range(n_items):\n",
    "            iarray = np.zeros(n_items)\n",
    "            start = item_offsets[i]\n",
    "            end = item_offsets[i + 1]\n",
    "            for e in index_by_items[start:end]:\n",
    "                uidx = data.SessionIdx.values[e]\n",
    "                ustart = session_offsets[uidx]\n",
    "                uend = session_offsets[uidx + 1]\n",
    "                user_events = index_by_sessions[ustart:uend]\n",
    "                iarray[data.ItemIdx.values[user_events]] += 1\n",
    "            iarray[i] = 0\n",
    "            norm = np.power((supp[i] + self.lmbd), self.alpha) * np.power((supp.values + self.lmbd), (1.0 - self.alpha))\n",
    "            norm[norm == 0] = 1\n",
    "            iarray = iarray / norm\n",
    "            indices = np.argsort(iarray)[-1:-1 - self.n_sims:-1]\n",
    "            self.sims[itemids[i]] = pd.Series(data=iarray[indices], index=itemids[indices])\n",
    "\n",
    "    def predict_next(self, session_id, input_item_id, predict_for_item_ids, skip=False, mode_type='view',\n",
    "                     timestamp=0):\n",
    "        '''\n",
    "        Gives predicton scores for a selected set of items on how likely they be the next item in the session.\n",
    "        Parameters\n",
    "        --------\n",
    "        session_id : int or string\n",
    "            The session IDs of the event.\n",
    "        input_item_id : int or string\n",
    "            The item ID of the event. Must be in the set of item IDs of the training set.\n",
    "        predict_for_item_ids : 1D array\n",
    "            IDs of items for which the network should give prediction scores. Every ID must be in the set of item IDs of the training set.\n",
    "        Returns\n",
    "        --------\n",
    "        out : pandas.Series\n",
    "            Prediction scores for selected items on how likely to be the next item of this session. Indexed by the item IDs.\n",
    "        '''\n",
    "        preds = np.zeros(len(predict_for_item_ids))\n",
    "        sim_list = self.sims[input_item_id]\n",
    "        mask = np.in1d(predict_for_item_ids, sim_list.index)\n",
    "        preds[mask] = sim_list[predict_for_item_ids[mask]]\n",
    "        return pd.Series(data=preds, index=predict_for_item_ids)\n",
    "\n",
    "\n",
    "# Función para reorganizar el DataFrame\n",
    "def reformat_dataframe(df):\n",
    "\n",
    "    # Convertir las cadenas en matrices de NumPy\n",
    "    df[\"prev_items\"] = df[\"prev_items\"].apply(lambda x: re.findall(r\"'([^']*)'\", x))\n",
    "    session_id_col = []\n",
    "    item_id_col = []\n",
    "    time_col = []\n",
    "\n",
    "    for i, row in df.iterrows():\n",
    "        session_id = i\n",
    "        for j, item_id in enumerate(row[\"prev_items\"]):\n",
    "            session_id_col.append(session_id)\n",
    "            item_id_col.append(item_id)\n",
    "            time_col.append(j)\n",
    "\n",
    "        session_id_col.append(session_id)\n",
    "        item_id_col.append(row[\"next_item\"])\n",
    "        time_col.append(len(row[\"prev_items\"]))\n",
    "\n",
    "    new_df = pd.DataFrame({\"SessionId\": session_id_col, \"ItemId\": item_id_col, \"Time\": time_col})\n",
    "    return new_df\n",
    "\n",
    "# Reorganizar el DataFrame\n",
    "new_data = reformat_dataframe(df)"
   ]
  },
  {
   "cell_type": "code",
   "execution_count": 39,
   "id": "8504dad2",
   "metadata": {},
   "outputs": [
    {
     "data": {
      "text/html": [
       "<div>\n",
       "<style scoped>\n",
       "    .dataframe tbody tr th:only-of-type {\n",
       "        vertical-align: middle;\n",
       "    }\n",
       "\n",
       "    .dataframe tbody tr th {\n",
       "        vertical-align: top;\n",
       "    }\n",
       "\n",
       "    .dataframe thead th {\n",
       "        text-align: right;\n",
       "    }\n",
       "</style>\n",
       "<table border=\"1\" class=\"dataframe\">\n",
       "  <thead>\n",
       "    <tr style=\"text-align: right;\">\n",
       "      <th></th>\n",
       "      <th>SessionId</th>\n",
       "      <th>ItemId</th>\n",
       "      <th>Time</th>\n",
       "    </tr>\n",
       "  </thead>\n",
       "  <tbody>\n",
       "    <tr>\n",
       "      <th>0</th>\n",
       "      <td>0</td>\n",
       "      <td>B09W9FND7K</td>\n",
       "      <td>0</td>\n",
       "    </tr>\n",
       "    <tr>\n",
       "      <th>1</th>\n",
       "      <td>0</td>\n",
       "      <td>B09JSPLN1M</td>\n",
       "      <td>1</td>\n",
       "    </tr>\n",
       "    <tr>\n",
       "      <th>2</th>\n",
       "      <td>0</td>\n",
       "      <td>B09M7GY217</td>\n",
       "      <td>2</td>\n",
       "    </tr>\n",
       "    <tr>\n",
       "      <th>3</th>\n",
       "      <td>1</td>\n",
       "      <td>B076THCGSG</td>\n",
       "      <td>0</td>\n",
       "    </tr>\n",
       "    <tr>\n",
       "      <th>4</th>\n",
       "      <td>1</td>\n",
       "      <td>B007MO8IME</td>\n",
       "      <td>1</td>\n",
       "    </tr>\n",
       "    <tr>\n",
       "      <th>...</th>\n",
       "      <td>...</td>\n",
       "      <td>...</td>\n",
       "      <td>...</td>\n",
       "    </tr>\n",
       "    <tr>\n",
       "      <th>5948394</th>\n",
       "      <td>1111414</td>\n",
       "      <td>3750524505</td>\n",
       "      <td>8</td>\n",
       "    </tr>\n",
       "    <tr>\n",
       "      <th>5948395</th>\n",
       "      <td>1111414</td>\n",
       "      <td>B07XJ3H1RM</td>\n",
       "      <td>9</td>\n",
       "    </tr>\n",
       "    <tr>\n",
       "      <th>5948396</th>\n",
       "      <td>1111415</td>\n",
       "      <td>B09Y5SSN7R</td>\n",
       "      <td>0</td>\n",
       "    </tr>\n",
       "    <tr>\n",
       "      <th>5948397</th>\n",
       "      <td>1111415</td>\n",
       "      <td>3731861860</td>\n",
       "      <td>1</td>\n",
       "    </tr>\n",
       "    <tr>\n",
       "      <th>5948398</th>\n",
       "      <td>1111415</td>\n",
       "      <td>B0B87CNH9C</td>\n",
       "      <td>2</td>\n",
       "    </tr>\n",
       "  </tbody>\n",
       "</table>\n",
       "<p>5948399 rows × 3 columns</p>\n",
       "</div>"
      ],
      "text/plain": [
       "         SessionId      ItemId  Time\n",
       "0                0  B09W9FND7K     0\n",
       "1                0  B09JSPLN1M     1\n",
       "2                0  B09M7GY217     2\n",
       "3                1  B076THCGSG     0\n",
       "4                1  B007MO8IME     1\n",
       "...            ...         ...   ...\n",
       "5948394    1111414  3750524505     8\n",
       "5948395    1111414  B07XJ3H1RM     9\n",
       "5948396    1111415  B09Y5SSN7R     0\n",
       "5948397    1111415  3731861860     1\n",
       "5948398    1111415  B0B87CNH9C     2\n",
       "\n",
       "[5948399 rows x 3 columns]"
      ]
     },
     "execution_count": 39,
     "metadata": {},
     "output_type": "execute_result"
    }
   ],
   "source": [
    "new_data"
   ]
  },
  {
   "cell_type": "code",
   "execution_count": 56,
   "id": "2c15b85e",
   "metadata": {},
   "outputs": [],
   "source": [
    "# Crear y entrenar el modelo ItemKNN\n",
    "iknn = ItemKNN(n_sims=100, lmbd=20, alpha=0.5, session_key=\"SessionId\",\n",
    "               item_key=\"ItemId\", time_key=\"Time\")\n",
    "iknn.fit(new_data)"
   ]
  },
  {
   "cell_type": "code",
   "execution_count": 68,
   "id": "50495d1b",
   "metadata": {},
   "outputs": [],
   "source": [
    "objetos = new_data.ItemId.unique()"
   ]
  },
  {
   "cell_type": "code",
   "execution_count": 72,
   "id": "c4578a37",
   "metadata": {},
   "outputs": [
    {
     "data": {
      "text/plain": [
       "0                                   [B09W9FND7K, B09JSPLN1M]\n",
       "1           [B076THCGSG, B007MO8IME, B08MF65MLV, B001B4TKA0]\n",
       "2          [B0B1LGXWDS, B00AZYORS2, B0B1LGXWDS, B00AZYORS...\n",
       "3          [B09XMTWDVT, B0B4MZZ8MB, B0B7HZ2GWX, B09XMTWDV...\n",
       "4                       [B09Y5CSL3T, B09Y5DPTXN, B09FKD61R8]\n",
       "                                 ...                        \n",
       "1111411                             [B06X9BB2D7, B09RWWGXZJ]\n",
       "1111412     [B0BK2WGCN4, B08H93ZRLL, B0BK2WGCN4, B08H93ZRLL]\n",
       "1111413                             [B08X1SDBLB, B06WVZRBJ1]\n",
       "1111414    [B0B8NNHR5N, B0BBCCB2S1, B09R222SDP, B0B5FBHX8...\n",
       "1111415                             [B09Y5SSN7R, 3731861860]\n",
       "Name: prev_items, Length: 1111416, dtype: object"
      ]
     },
     "execution_count": 72,
     "metadata": {},
     "output_type": "execute_result"
    }
   ],
   "source": [
    "df[\"prev_items\"][]"
   ]
  },
  {
   "cell_type": "code",
   "execution_count": 70,
   "id": "3db4d98e",
   "metadata": {},
   "outputs": [],
   "source": [
    "lastclick =  \"B0B1LGXWDS\"\n",
    "preds = iknn.predict_next(1, lastclick, objetos).sort_values(ascending=False)  # lista con el item y su peso\n"
   ]
  },
  {
   "cell_type": "code",
   "execution_count": 71,
   "id": "62566ba3",
   "metadata": {},
   "outputs": [
    {
     "data": {
      "text/plain": [
       "B00AZYORS2    0.402015\n",
       "B0767DTG2Q    0.170103\n",
       "B085XT2DZY    0.098058\n",
       "B004N9BSQE    0.096225\n",
       "B07JLJ4N44    0.093352\n",
       "                ...   \n",
       "B093FK5GN6    0.000000\n",
       "B07JMS9GZC    0.000000\n",
       "B07XLTFFSK    0.000000\n",
       "B075SSYD9F    0.000000\n",
       "B092SJJKD1    0.000000\n",
       "Length: 513811, dtype: float64"
      ]
     },
     "execution_count": 71,
     "metadata": {},
     "output_type": "execute_result"
    }
   ],
   "source": [
    "preds"
   ]
  },
  {
   "cell_type": "code",
   "execution_count": 76,
   "id": "3852338b",
   "metadata": {},
   "outputs": [],
   "source": [
    "\n",
    "import re"
   ]
  },
  {
   "cell_type": "code",
   "execution_count": 79,
   "id": "2c62b56b",
   "metadata": {},
   "outputs": [],
   "source": [
    "def str2list(x):\n",
    "    x = x.replace('[', '').replace(']', '').replace(\"'\", '').replace('\\n', ' ').replace('\\r', ' ')\n",
    "    l = [i for i in x.split() if i]\n",
    "    return l"
   ]
  },
  {
   "cell_type": "code",
   "execution_count": 82,
   "id": "66a71ea2",
   "metadata": {},
   "outputs": [],
   "source": [
    "test = pd.read_csv(\"sessions_test_task1.csv\")"
   ]
  },
  {
   "cell_type": "code",
   "execution_count": 86,
   "id": "a9de8b97",
   "metadata": {},
   "outputs": [],
   "source": [
    "train = pd.read_csv(\"sessions_train.csv\")\n",
    "\n",
    "train = train[train[\"locale\"]==\"DE\"].drop(columns={\"locale\"}).reset_index(drop=True)\n"
   ]
  },
  {
   "cell_type": "code",
   "execution_count": 88,
   "id": "2910fbe0",
   "metadata": {},
   "outputs": [
    {
     "data": {
      "text/html": [
       "<div>\n",
       "<style scoped>\n",
       "    .dataframe tbody tr th:only-of-type {\n",
       "        vertical-align: middle;\n",
       "    }\n",
       "\n",
       "    .dataframe tbody tr th {\n",
       "        vertical-align: top;\n",
       "    }\n",
       "\n",
       "    .dataframe thead th {\n",
       "        text-align: right;\n",
       "    }\n",
       "</style>\n",
       "<table border=\"1\" class=\"dataframe\">\n",
       "  <thead>\n",
       "    <tr style=\"text-align: right;\">\n",
       "      <th></th>\n",
       "      <th>prev_items</th>\n",
       "      <th>next_item</th>\n",
       "      <th>last_item</th>\n",
       "    </tr>\n",
       "  </thead>\n",
       "  <tbody>\n",
       "    <tr>\n",
       "      <th>0</th>\n",
       "      <td>['B09W9FND7K' 'B09JSPLN1M']</td>\n",
       "      <td>B09M7GY217</td>\n",
       "      <td>B09JSPLN1M</td>\n",
       "    </tr>\n",
       "    <tr>\n",
       "      <th>1</th>\n",
       "      <td>['B076THCGSG' 'B007MO8IME' 'B08MF65MLV' 'B001B...</td>\n",
       "      <td>B001B4THSA</td>\n",
       "      <td>B001B4TKA0</td>\n",
       "    </tr>\n",
       "    <tr>\n",
       "      <th>2</th>\n",
       "      <td>['B0B1LGXWDS' 'B00AZYORS2' 'B0B1LGXWDS' 'B00AZ...</td>\n",
       "      <td>B0767DTG2Q</td>\n",
       "      <td>B00AZYORS2</td>\n",
       "    </tr>\n",
       "    <tr>\n",
       "      <th>3</th>\n",
       "      <td>['B09XMTWDVT' 'B0B4MZZ8MB' 'B0B7HZ2GWX' 'B09XM...</td>\n",
       "      <td>B0B4R9NN4B</td>\n",
       "      <td>B0B71CHT1L</td>\n",
       "    </tr>\n",
       "    <tr>\n",
       "      <th>4</th>\n",
       "      <td>['B09Y5CSL3T' 'B09Y5DPTXN' 'B09FKD61R8']</td>\n",
       "      <td>B0BGVBKWGZ</td>\n",
       "      <td>B09FKD61R8</td>\n",
       "    </tr>\n",
       "    <tr>\n",
       "      <th>...</th>\n",
       "      <td>...</td>\n",
       "      <td>...</td>\n",
       "      <td>...</td>\n",
       "    </tr>\n",
       "    <tr>\n",
       "      <th>1111411</th>\n",
       "      <td>['B06X9BB2D7' 'B09RWWGXZJ']</td>\n",
       "      <td>B09RWWWYGZ</td>\n",
       "      <td>B09RWWGXZJ</td>\n",
       "    </tr>\n",
       "    <tr>\n",
       "      <th>1111412</th>\n",
       "      <td>['B0BK2WGCN4' 'B08H93ZRLL' 'B0BK2WGCN4' 'B08H9...</td>\n",
       "      <td>B001BWJEXK</td>\n",
       "      <td>B08H93ZRLL</td>\n",
       "    </tr>\n",
       "    <tr>\n",
       "      <th>1111413</th>\n",
       "      <td>['B08X1SDBLB' 'B06WVZRBJ1']</td>\n",
       "      <td>B09YRTCM8X</td>\n",
       "      <td>B06WVZRBJ1</td>\n",
       "    </tr>\n",
       "    <tr>\n",
       "      <th>1111414</th>\n",
       "      <td>['B0B8NNHR5N' 'B0BBCCB2S1' 'B09R222SDP' 'B0B5F...</td>\n",
       "      <td>B07XJ3H1RM</td>\n",
       "      <td>3750524505</td>\n",
       "    </tr>\n",
       "    <tr>\n",
       "      <th>1111415</th>\n",
       "      <td>['B09Y5SSN7R' '3731861860']</td>\n",
       "      <td>B0B87CNH9C</td>\n",
       "      <td>3731861860</td>\n",
       "    </tr>\n",
       "  </tbody>\n",
       "</table>\n",
       "<p>1111416 rows × 3 columns</p>\n",
       "</div>"
      ],
      "text/plain": [
       "                                                prev_items   next_item  \\\n",
       "0                              ['B09W9FND7K' 'B09JSPLN1M']  B09M7GY217   \n",
       "1        ['B076THCGSG' 'B007MO8IME' 'B08MF65MLV' 'B001B...  B001B4THSA   \n",
       "2        ['B0B1LGXWDS' 'B00AZYORS2' 'B0B1LGXWDS' 'B00AZ...  B0767DTG2Q   \n",
       "3        ['B09XMTWDVT' 'B0B4MZZ8MB' 'B0B7HZ2GWX' 'B09XM...  B0B4R9NN4B   \n",
       "4                 ['B09Y5CSL3T' 'B09Y5DPTXN' 'B09FKD61R8']  B0BGVBKWGZ   \n",
       "...                                                    ...         ...   \n",
       "1111411                        ['B06X9BB2D7' 'B09RWWGXZJ']  B09RWWWYGZ   \n",
       "1111412  ['B0BK2WGCN4' 'B08H93ZRLL' 'B0BK2WGCN4' 'B08H9...  B001BWJEXK   \n",
       "1111413                        ['B08X1SDBLB' 'B06WVZRBJ1']  B09YRTCM8X   \n",
       "1111414  ['B0B8NNHR5N' 'B0BBCCB2S1' 'B09R222SDP' 'B0B5F...  B07XJ3H1RM   \n",
       "1111415                        ['B09Y5SSN7R' '3731861860']  B0B87CNH9C   \n",
       "\n",
       "          last_item  \n",
       "0        B09JSPLN1M  \n",
       "1        B001B4TKA0  \n",
       "2        B00AZYORS2  \n",
       "3        B0B71CHT1L  \n",
       "4        B09FKD61R8  \n",
       "...             ...  \n",
       "1111411  B09RWWGXZJ  \n",
       "1111412  B08H93ZRLL  \n",
       "1111413  B06WVZRBJ1  \n",
       "1111414  3750524505  \n",
       "1111415  3731861860  \n",
       "\n",
       "[1111416 rows x 3 columns]"
      ]
     },
     "execution_count": 88,
     "metadata": {},
     "output_type": "execute_result"
    }
   ],
   "source": [
    "train"
   ]
  },
  {
   "cell_type": "code",
   "execution_count": 87,
   "id": "356830ad",
   "metadata": {},
   "outputs": [],
   "source": [
    "train['last_item'] = train['prev_items'].apply(lambda x: str2list(x)[-1])\n"
   ]
  },
  {
   "cell_type": "code",
   "execution_count": 89,
   "id": "0ccc8b52",
   "metadata": {},
   "outputs": [],
   "source": [
    "train = train.iloc[0:2,:]"
   ]
  },
  {
   "cell_type": "code",
   "execution_count": 92,
   "id": "efd067ce",
   "metadata": {},
   "outputs": [],
   "source": [
    "for i, row in train.iterrows():\n",
    "    preds = iknn.predict_next(0, row[\"last_item\"], objetos).sort_values(ascending=False) "
   ]
  },
  {
   "cell_type": "code",
   "execution_count": 101,
   "id": "31ba4f56",
   "metadata": {},
   "outputs": [],
   "source": [
    "lista = [x for x in ]\n"
   ]
  },
  {
   "cell_type": "code",
   "execution_count": 126,
   "id": "07a0ad80",
   "metadata": {},
   "outputs": [],
   "source": [
    "\n",
    "# Convertimos el objeto de índice en una lista de Python sin comillas simples\n",
    "lista = preds.index[0:2].tolist()\n",
    "\n",
    "# Eliminamos las comillas simples de cada elemento de la lista\n",
    "lista_sin_comillas = [x.replace(\"'\",'') for x in lista]"
   ]
  },
  {
   "cell_type": "code",
   "execution_count": 127,
   "id": "51f4b7d5",
   "metadata": {},
   "outputs": [
    {
     "data": {
      "text/plain": [
       "['B001B4THSA', 'B0001NPYZ2']"
      ]
     },
     "execution_count": 127,
     "metadata": {},
     "output_type": "execute_result"
    }
   ],
   "source": [
    "lista"
   ]
  },
  {
   "cell_type": "code",
   "execution_count": 125,
   "id": "7dc661af",
   "metadata": {},
   "outputs": [
    {
     "data": {
      "text/plain": [
       "'B001B4THSA B0001NPYZ2'"
      ]
     },
     "execution_count": 125,
     "metadata": {},
     "output_type": "execute_result"
    }
   ],
   "source": [
    "' '.join(lista)"
   ]
  },
  {
   "cell_type": "code",
   "execution_count": 124,
   "id": "c45dc13b",
   "metadata": {},
   "outputs": [
    {
     "data": {
      "text/plain": [
       "['B001B4THSA,B0001NPYZ2']"
      ]
     },
     "execution_count": 124,
     "metadata": {},
     "output_type": "execute_result"
    }
   ],
   "source": [
    "new_list = \",\".join(lista).replace(\"\\\"\",\"\").replace(\"'\",\"\").split(\"\\n\")\n",
    "new_list"
   ]
  },
  {
   "cell_type": "code",
   "execution_count": null,
   "id": "ec34da70",
   "metadata": {},
   "outputs": [],
   "source": [
    "#next_item_map = {}\n",
    "#for item in tqdm(next_item_dict):\n",
    "#    counter = Counter(next_item_dict[item])\n",
    "#    next_item_map[item] = [i[0] for i in counter.most_common(100)]"
   ]
  },
  {
   "cell_type": "code",
   "execution_count": 118,
   "id": "76ecccbb",
   "metadata": {},
   "outputs": [
    {
     "name": "stdout",
     "output_type": "stream",
     "text": [
      "B001B4THSA\n"
     ]
    }
   ],
   "source": [
    "cadena_con_comillas = 'B001B4THSA'\n",
    "cadena_sin_comillas = cadena_con_comillas.replace(\"'\", \"\")\n",
    "\n",
    "print(cadena_sin_comillas)"
   ]
  },
  {
   "cell_type": "code",
   "execution_count": 119,
   "id": "56fa9d7b",
   "metadata": {},
   "outputs": [
    {
     "data": {
      "text/plain": [
       "'B001B4THSA'"
      ]
     },
     "execution_count": 119,
     "metadata": {},
     "output_type": "execute_result"
    }
   ],
   "source": [
    "cadena_con_comillas"
   ]
  },
  {
   "cell_type": "code",
   "execution_count": null,
   "id": "0b22e8ba",
   "metadata": {},
   "outputs": [],
   "source": []
  }
 ],
 "metadata": {
  "kernelspec": {
   "display_name": "Python 3 (ipykernel)",
   "language": "python",
   "name": "python3"
  },
  "language_info": {
   "codemirror_mode": {
    "name": "ipython",
    "version": 3
   },
   "file_extension": ".py",
   "mimetype": "text/x-python",
   "name": "python",
   "nbconvert_exporter": "python",
   "pygments_lexer": "ipython3",
   "version": "3.9.7"
  }
 },
 "nbformat": 4,
 "nbformat_minor": 5
}
